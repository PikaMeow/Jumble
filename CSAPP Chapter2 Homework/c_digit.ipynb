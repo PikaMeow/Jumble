{
 "cells": [
  {
   "cell_type": "markdown",
   "metadata": {
    "nbpresent": {
     "id": "a0c4a691-cd2a-4343-9fdb-c833ab65bd0a"
    }
   },
   "source": [
    "## CS:APP Chapter2 homework"
   ]
  },
  {
   "cell_type": "markdown",
   "metadata": {
    "nbpresent": {
     "id": "a8a6ea68-9fdc-460d-9cfc-2295b29a2700"
    }
   },
   "source": [
    "Note:<img src=\"./chapter2/premise.png\" width=\"70%\">"
   ]
  },
  {
   "cell_type": "markdown",
   "metadata": {
    "nbpresent": {
     "id": "51ca1580-178e-457d-b3cb-a50805ababae"
    }
   },
   "source": [
    "<img src=\"./chapter2/2-55.png\" align=\"left\" width=\"80%\">"
   ]
  },
  {
   "cell_type": "code",
   "execution_count": 6,
   "metadata": {
    "collapsed": false,
    "nbpresent": {
     "id": "b508099d-dfda-40a3-95f1-d123b6e3e986"
    }
   },
   "outputs": [
    {
     "name": "stderr",
     "output_type": "stream",
     "text": []
    },
    {
     "name": "stdout",
     "output_type": "stream",
     "text": [
      " 45 23 00 00\r\n"
     ]
    }
   ],
   "source": [
    "#include <stdio.h>\n",
    "typedef unsigned char *byte_pointer;\n",
    "void show_bytes(byte_pointer start,int len) {\n",
    "    int i;\n",
    "    for(i=0;i<len;i++) {\n",
    "        printf(\" %.2x\",start[i]);\n",
    "    }\n",
    "    printf(\"\\n\");\n",
    "}\n",
    "void show_int(int x){\n",
    "    show_bytes((byte_pointer)&x,sizeof(int));\n",
    "}\n",
    "int main() {\n",
    "    show_int(0x2345);\n",
    "}\n",
    "// 根据结果，说明该机器采用了“小端法”来表示多字节的整数"
   ]
  },
  {
   "cell_type": "markdown",
   "metadata": {
    "nbpresent": {
     "id": "39a5037c-ac51-4eb3-9f45-1a0dd60924fc"
    }
   },
   "source": [
    "<img src=\"./chapter2/2-56.png\" align=\"left\" width=\"45%\">"
   ]
  },
  {
   "cell_type": "code",
   "execution_count": 8,
   "metadata": {
    "collapsed": false,
    "nbpresent": {
     "id": "183d46b2-b127-494a-a916-948de8b38fb6"
    }
   },
   "outputs": [
    {
     "name": "stderr",
     "output_type": "stream",
     "text": []
    },
    {
     "name": "stdout",
     "output_type": "stream",
     "text": [
      " 45 23 00 00\r\n",
      " 00 14 0d 46\r\n"
     ]
    }
   ],
   "source": [
    "#include <stdio.h>\n",
    "typedef unsigned char *byte_pointer;\n",
    "void show_bytes(byte_pointer start,int len) {\n",
    "    int i;\n",
    "    for(i=0;i<len;i++) {\n",
    "        printf(\" %.2x\",start[i]);\n",
    "    }\n",
    "    printf(\"\\n\");\n",
    "}\n",
    "void show_int(int x){\n",
    "    show_bytes((byte_pointer)&x,sizeof(int));\n",
    "}\n",
    "void show_float(float x) {\n",
    "    show_bytes((byte_pointer)&x,sizeof(float));\n",
    "}\n",
    "int main() {\n",
    "    show_int(0x2345);\n",
    "    show_float(0x2345);\n",
    "}"
   ]
  },
  {
   "cell_type": "markdown",
   "metadata": {
    "collapsed": true
   },
   "source": [
    "<img src=\"./chapter2/2-57.png\" align=\"left\" width=\"80%\">"
   ]
  },
  {
   "cell_type": "code",
   "execution_count": 10,
   "metadata": {
    "collapsed": false
   },
   "outputs": [
    {
     "name": "stderr",
     "output_type": "stream",
     "text": []
    },
    {
     "name": "stdout",
     "output_type": "stream",
     "text": [
      " 45 23\r\n",
      " 45 23 00 00\r\n",
      " 00 00 00 00 80 a2 c1 40\r\n"
     ]
    }
   ],
   "source": [
    "#include <stdio.h>\n",
    "typedef unsigned char *byte_pointer;\n",
    "void show_bytes(byte_pointer start,int len) {\n",
    "    int i;\n",
    "    for(i=0;i<len;i++) {\n",
    "        printf(\" %.2x\",start[i]);\n",
    "    }\n",
    "    printf(\"\\n\");\n",
    "}\n",
    "void show_short(short x) {\n",
    "    show_bytes((byte_pointer)&x,sizeof(short));\n",
    "}\n",
    "void show_long(long x) {\n",
    "    show_bytes((byte_pointer)&x,sizeof(long));\n",
    "}\n",
    "void show_double(double x) {\n",
    "    show_bytes((byte_pointer)&x,sizeof(double));\n",
    "}\n",
    "int main() {\n",
    "    show_short(0x2345);\n",
    "    show_long(0x2345);\n",
    "    show_double(0x2345);\n",
    "}\n",
    "// 结果说明在该机器上'short'为2字节；'long'为4字节；'double'为8字节"
   ]
  },
  {
   "cell_type": "markdown",
   "metadata": {
    "collapsed": true
   },
   "source": [
    "<img src=\"./chapter2/2-58.png\" align=\"left\" width=\"80%\">"
   ]
  },
  {
   "cell_type": "code",
   "execution_count": 10,
   "metadata": {
    "collapsed": false
   },
   "outputs": [
    {
     "name": "stderr",
     "output_type": "stream",
     "text": []
    },
    {
     "name": "stdout",
     "output_type": "stream",
     "text": [
      "1\n"
     ]
    }
   ],
   "source": [
    "#include <stdio.h>\n",
    "typedef unsigned char *byte_pointer;\n",
    "int is_little_endian() {//条件：字长至少为1字节\n",
    "    int p=0x12345678;\n",
    "    if((int)((byte_pointer)&p)[0]==(p&0xff)) {\n",
    "        return 1;\n",
    "    } else {\n",
    "        return 0;\n",
    "    }\n",
    "}\n",
    "int main() {\n",
    "    printf(\"%d\\n\",is_little_endian());\n",
    "}"
   ]
  },
  {
   "cell_type": "code",
   "execution_count": 17,
   "metadata": {
    "collapsed": false
   },
   "outputs": [
    {
     "name": "stderr",
     "output_type": "stream",
     "text": []
    },
    {
     "name": "stdout",
     "output_type": "stream",
     "text": [
      "1\n"
     ]
    }
   ],
   "source": [
    "#include <stdio.h>\n",
    "int is_little_endian() {\n",
    "    int a=1;\n",
    "    return *((char *)&a);\n",
    "}\n",
    "int main() {\n",
    "    printf(\"%d\\n\",is_little_endian());\n",
    "}"
   ]
  },
  {
   "cell_type": "markdown",
   "metadata": {},
   "source": [
    "<img src=\"./chapter2/2-59.png\" align=\"left\" width=\"80%\">"
   ]
  },
  {
   "cell_type": "code",
   "execution_count": 18,
   "metadata": {
    "collapsed": false
   },
   "outputs": [
    {
     "name": "stderr",
     "output_type": "stream",
     "text": []
    },
    {
     "name": "stdout",
     "output_type": "stream",
     "text": [
      "765432ef\n"
     ]
    }
   ],
   "source": [
    "#include <stdio.h>\n",
    "int combine(int x,int y) {\n",
    "    return (y& ~0xff)|(x&0xff);\n",
    "}\n",
    "int main() {\n",
    "    printf(\"%x\\n\",combine(0x89ABCDEF,0x76543210));\n",
    "}"
   ]
  },
  {
   "cell_type": "markdown",
   "metadata": {},
   "source": [
    "<img src=\"./chapter2/2-60.png\" align=\"left\" width=\"80%\">"
   ]
  },
  {
   "cell_type": "code",
   "execution_count": 26,
   "metadata": {
    "collapsed": false
   },
   "outputs": [
    {
     "name": "stderr",
     "output_type": "stream",
     "text": []
    },
    {
     "name": "stdout",
     "output_type": "stream",
     "text": [
      "ab345678\n"
     ]
    }
   ],
   "source": [
    "#include <stdio.h>\n",
    "unsigned put_byte(unsigned x,unsigned char b,int i) {\n",
    "    return (x & ~(0xff<<(i<<3))) | (b<<(i<<3)); // char类型自动扩展\n",
    "}\n",
    "int main() {\n",
    "    printf(\"%x\\n\",put_byte(0x12345678,0xab,3));\n",
    "}"
   ]
  },
  {
   "cell_type": "markdown",
   "metadata": {},
   "source": [
    "NOTE:<img src=\"./chapter2/rule.png\" align=\"center\" width=\"80%\">"
   ]
  },
  {
   "cell_type": "markdown",
   "metadata": {},
   "source": [
    "<img src=\"./chapter2/2-61.png\" align=\"left\" width=\"80%\">"
   ]
  },
  {
   "cell_type": "code",
   "execution_count": 27,
   "metadata": {
    "collapsed": false
   },
   "outputs": [
    {
     "name": "stderr",
     "output_type": "stream",
     "text": []
    },
    {
     "name": "stdout",
     "output_type": "stream",
     "text": [
      "1\n",
      "1\n",
      "1\n",
      "1\n"
     ]
    }
   ],
   "source": [
    "#include <stdio.h>\n",
    "\n",
    "int A(int x) {\n",
    "    return !~x;\n",
    "}\n",
    "\n",
    "int B(int x) {\n",
    "    return !x;\n",
    "}\n",
    "\n",
    "int C(int x) {\n",
    "    return ! ~(x>>((sizeof(x)-1)<<3)); //算术位移\n",
    "}\n",
    "\n",
    "int D(int x) {\n",
    "    return !(x&0xff);\n",
    "}\n",
    "\n",
    "int main() {\n",
    "    int x=0xffffffff;\n",
    "    printf(\"%d\\n\",A(x));\n",
    "    x=0x00;\n",
    "    printf(\"%d\\n\",B(x));\n",
    "    x=0xffff1100;\n",
    "    printf(\"%d\\n\",C(x));\n",
    "    x=0x001100;\n",
    "    printf(\"%d\\n\",D(x));\n",
    "}"
   ]
  },
  {
   "cell_type": "markdown",
   "metadata": {},
   "source": [
    "<img src=\"./chapter2/2-62.png\" align=\"left\" width=\"80%\">"
   ]
  },
  {
   "cell_type": "code",
   "execution_count": 31,
   "metadata": {
    "collapsed": false
   },
   "outputs": [
    {
     "name": "stderr",
     "output_type": "stream",
     "text": []
    },
    {
     "name": "stdout",
     "output_type": "stream",
     "text": [
      "1\n"
     ]
    }
   ],
   "source": [
    "#include <stdio.h>\n",
    "int int_shifts_are_logical() {\n",
    "    int x=0xff;\n",
    "    int shift=(sizeof(int)-1)<<3;\n",
    "    int y = x<<shift>>shift;\n",
    "    return y!=x;\n",
    "    \n",
    "}\n",
    "int main() {\n",
    "    printf(\"%d\\n\",int_shifts_are_logical());\n",
    "}"
   ]
  },
  {
   "cell_type": "code",
   "execution_count": 28,
   "metadata": {
    "collapsed": false
   },
   "outputs": [
    {
     "name": "stderr",
     "output_type": "stream",
     "text": []
    },
    {
     "name": "stdout",
     "output_type": "stream",
     "text": [
      "1\n"
     ]
    }
   ],
   "source": [
    "#include <stdio.h>\n",
    "int int_shifts_are_logical() {\n",
    "    int x=-1;\n",
    "    return x>>1 == -1;\n",
    "}\n",
    "int main() {\n",
    "    printf(\"%d\\n\",int_shifts_are_logical());\n",
    "}\n"
   ]
  },
  {
   "cell_type": "markdown",
   "metadata": {
    "collapsed": false
   },
   "source": [
    "<img src=\"./chapter2/2-63.png\" align=\"left\" width=\"80%\">"
   ]
  },
  {
   "cell_type": "code",
   "execution_count": 39,
   "metadata": {
    "collapsed": false
   },
   "outputs": [
    {
     "name": "stderr",
     "output_type": "stream",
     "text": []
    },
    {
     "name": "stdout",
     "output_type": "stream",
     "text": [
      "8f000000\n",
      "e3c00000\n"
     ]
    }
   ],
   "source": [
    "#include <stdio.h>\n",
    "/*\n",
    "对于sra，主要的工作是将xrsl的第w-k-1位扩展到前面的高位。 这个可以利用取反加1来实现，不过这里的加1是加1<<(w-k-1)。 \n",
    "如果x的第w-k-1位为0，取反加1后，前面位全为0，如果为1，取反加1后就全是1。 最后再使用相应的掩码得到结果。\n",
    "*/\n",
    "int sra(int x,int k) {\n",
    "    int xsrl=(unsigned)x>>k;\n",
    "    int w=sizeof(int)<<3;\n",
    "    int z=1<<(w-k-1);\n",
    "    int mask=z-1;\n",
    "    int right = mask & xsrl;\n",
    "    int left = ~mask & ~(z&xsrl)+z;\n",
    "    return left | right ;\n",
    "}\n",
    "int srl(unsigned x,int k) {\n",
    "    unsigned xsra=(int)x>>k;\n",
    "    int w=sizeof(int)<<3;\n",
    "    return xsra & ~(-2<<(w-k-1));\n",
    "}\n",
    "int main() {\n",
    "    int x=0x8f000000;\n",
    "    printf(\"%08x\\n\",srl(x,0));//空位补0\n",
    "    printf(\"%08x\\n\",sra(x,2));//空位补最高位值\n",
    "}"
   ]
  },
  {
   "cell_type": "markdown",
   "metadata": {
    "collapsed": true
   },
   "source": [
    "<img src=\"./chapter2/2-64.png\" align=\"left\" width=\"80%\">"
   ]
  },
  {
   "cell_type": "code",
   "execution_count": 34,
   "metadata": {
    "collapsed": false
   },
   "outputs": [
    {
     "name": "stderr",
     "output_type": "stream",
     "text": []
    },
    {
     "name": "stdout",
     "output_type": "stream",
     "text": [
      "1\n"
     ]
    }
   ],
   "source": [
    "#include <stdio.h>\n",
    "int any_even_one(unsigned x) {\n",
    "    int flag=0xaaaaaaaa;\n",
    "    return !(x & flag ^ flag);\n",
    "}\n",
    "int main() {\n",
    "    printf(\"%d\\n\",any_even_one(0xffffffff));\n",
    "}"
   ]
  },
  {
   "cell_type": "markdown",
   "metadata": {},
   "source": [
    "<img src=\"./chapter2/2-65.png\" align=\"left\" width=\"80%\">"
   ]
  },
  {
   "cell_type": "code",
   "execution_count": null,
   "metadata": {
    "collapsed": true
   },
   "outputs": [],
   "source": [
    "#include <stdio.h>\n",
    "int even_one(unsigned x) {\n",
    "    unsigned int val=0;\n",
    "    unsigned int flag=0x01010101;\n",
    "    val += x&flag;\n",
    "    flag<<=1;\n",
    "}"
   ]
  },
  {
   "cell_type": "markdown",
   "metadata": {},
   "source": [
    "<img src=\"./chapter2/2-66.png\" align=\"left\" width=\"80%\">"
   ]
  },
  {
   "cell_type": "code",
   "execution_count": null,
   "metadata": {
    "collapsed": true
   },
   "outputs": [],
   "source": []
  },
  {
   "cell_type": "markdown",
   "metadata": {},
   "source": [
    "<img src=\"./chapter2/2-67.png\" align=\"left\" width=\"80%\">"
   ]
  },
  {
   "cell_type": "code",
   "execution_count": null,
   "metadata": {
    "collapsed": true
   },
   "outputs": [],
   "source": [
    "/*\n",
    "A. 左移或右移的偏移量在[0,w-1]区间中\n",
    "*/\n"
   ]
  },
  {
   "cell_type": "markdown",
   "metadata": {},
   "source": [
    "<img src=\"./chapter2/2-68.png\" align=\"left\" width=\"80%\">"
   ]
  },
  {
   "cell_type": "code",
   "execution_count": 5,
   "metadata": {
    "collapsed": false
   },
   "outputs": [
    {
     "name": "stderr",
     "output_type": "stream",
     "text": []
    },
    {
     "name": "stdout",
     "output_type": "stream",
     "text": [
      "80000000\n",
      "80000000\n",
      "78abcdef\n"
     ]
    }
   ],
   "source": [
    "#include <stdio.h>\n",
    "int lower_bits(int x,int n) {\n",
    "    int w=sizeof(x)<<3;\n",
    "    int flag=1<<(w-1);\n",
    "    printf(\"%x\\n\",flag);\n",
    "    flag>>=(-n);\n",
    "    printf(\"%x\\n\",flag);\n",
    "    return x & (~flag);\n",
    "}\n",
    "int main() {\n",
    "    int x=0x78abcdef;\n",
    "    int n=32;\n",
    "    printf(\"%x\\n\",lower_bits(x,n));\n",
    "}"
   ]
  },
  {
   "cell_type": "markdown",
   "metadata": {},
   "source": [
    "<img src=\"./chapter2/2-69.png\" align=\"left\" width=\"80%\">"
   ]
  },
  {
   "cell_type": "code",
   "execution_count": null,
   "metadata": {
    "collapsed": true
   },
   "outputs": [],
   "source": []
  },
  {
   "cell_type": "markdown",
   "metadata": {},
   "source": [
    "<img src=\"./chapter2/2-70.png\" align=\"left\" width=\"80%\">"
   ]
  },
  {
   "cell_type": "code",
   "execution_count": 42,
   "metadata": {
    "collapsed": false
   },
   "outputs": [
    {
     "name": "stderr",
     "output_type": "stream",
     "text": []
    },
    {
     "name": "stdout",
     "output_type": "stream",
     "text": []
    }
   ],
   "source": [
    "#include <stdio.h>\n",
    "int main() {\n",
    "    int a[5],b;\n",
    "    a[1]=3;\n",
    "    b=2;\n",
    "}"
   ]
  },
  {
   "cell_type": "code",
   "execution_count": null,
   "metadata": {
    "collapsed": true
   },
   "outputs": [],
   "source": []
  }
 ],
 "metadata": {
  "anaconda-cloud": {},
  "kernelspec": {
   "display_name": "C",
   "language": "c",
   "name": "c_spec"
  },
  "language_info": {
   "file_extension": "c",
   "mimetype": "text/plain",
   "name": "c"
  },
  "nbpresent": {
   "slides": {},
   "themes": {
    "default": "6e82b8f3-1106-4420-9082-959d69a61ca2",
    "theme": {}
   }
  }
 },
 "nbformat": 4,
 "nbformat_minor": 0
}
